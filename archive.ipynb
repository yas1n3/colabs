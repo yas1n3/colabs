{
  "nbformat": 4,
  "nbformat_minor": 0,
  "metadata": {
    "colab": {
      "provenance": [],
      "mount_file_id": "1B2kQnp4-EDstoXAlr8vfUijSg_MwsiS8",
      "authorship_tag": "ABX9TyPubZkzi2ScN3KWmG1Ra1Qs",
      "include_colab_link": true
    },
    "kernelspec": {
      "name": "python3",
      "display_name": "Python 3"
    },
    "language_info": {
      "name": "python"
    }
  },
  "cells": [
    {
      "cell_type": "markdown",
      "metadata": {
        "id": "view-in-github",
        "colab_type": "text"
      },
      "source": [
        "<a href=\"https://colab.research.google.com/github/yas1n3/colabs/blob/main/archive.ipynb\" target=\"_parent\"><img src=\"https://colab.research.google.com/assets/colab-badge.svg\" alt=\"Open In Colab\"/></a>"
      ]
    },
    {
      "cell_type": "code",
      "execution_count": null,
      "metadata": {
        "cellView": "form",
        "id": "RgkKidsSgAl9"
      },
      "outputs": [],
      "source": [
        "# ============================= FORM ============================= #\n",
        "# @markdown <p><font size=5px>← Install the Tools</font></p>\n",
        "# ================================================================ #\n",
        "\n",
        "import os\n",
        "import IPython\n",
        "from IPython.display import clear_output\n",
        "\n",
        "os.system(\"sudo apt update\")\n",
        "os.system(\"apt install p7zip-full p7zip-rar unrar rar\")\n",
        "\n",
        "clear_output()"
      ]
    },
    {
      "cell_type": "code",
      "source": [
        "# ============================= FORM ============================= #\n",
        "#@markdown <font size=5px>← Extract archive</font>\n",
        "archive_path = \"\" #@param {type:\"string\"}\n",
        "archive_type = \"zip\" #@param [\"zip\", \"7z\", \"rar\", \"tar\", \"gzip\", \"iso\"]\n",
        "archive_password = \"\" #@param {type:\"string\"}\n",
        "#@markdown > Leave the archive_password field empty if archive is not password protected.\n",
        "output_path = \"\" #@param {type:\"string\"}\n",
        "#@markdown > Leave the output_path field empty to use default extraction path.\n",
        "\n",
        "use_subfolders = False  # @param{type: \"boolean\"}\n",
        "\n",
        "#@markdown ---\n",
        "automatically_clear_cell_output = False  # @param{type: \"boolean\"}\n",
        "# ================================================================ #\n",
        "import os\n",
        "from IPython.display import HTML, display, clear_output\n",
        "\n",
        "def extract_archive(archive_file, archive_type, password, output_folder):\n",
        "    if password == \"\":\n",
        "        pass\n",
        "    elif not password == \"\":\n",
        "        password = \"-p\" + password\n",
        "\n",
        "    if archive_type == \"zip\":\n",
        "        !7z x -o\"$output_folder\" \"$archive_file\" \"$password\"\n",
        "    elif archive_type == \"iso\":\n",
        "        !7z x -o\"$output_folder\" \"$archive_file\"\n",
        "    else:\n",
        "        display(HTML(\"<center><h2 style=\\\"font-family:Trebuchet MS;color:#ce2121;\\\">❌ More archive formats will be added in the future.</h2><br></center>\"))\n",
        "\n",
        "def find_and_extract_archives(root_path, archive_type, password, output_path, use_subfolders):\n",
        "    for root, _, files in os.walk(root_path):\n",
        "        for file in files:\n",
        "            if file.endswith(f\".{archive_type}\"):\n",
        "                file_path = os.path.join(root, file)\n",
        "                if use_subfolders:\n",
        "                    output_folder = root  # Extract inside the subfolder containing the ZIP\n",
        "                else:\n",
        "                    output_folder = output_path if output_path else root_path\n",
        "\n",
        "                if not os.path.exists(output_folder):\n",
        "                    os.makedirs(output_folder)\n",
        "                print(f\"Extracting: {file_path}\")\n",
        "                extract_archive(file_path, archive_type, password, output_folder)\n",
        "                print(\"Extraction complete.\")\n",
        "\n",
        "if archive_path == \"\":\n",
        "    display(HTML(\"<center><h2 style=\\\"font-family:Trebuchet MS;color:#ce2121;\\\">❌ The archive_path field is empty!</h2><br></center>\"))\n",
        "else:\n",
        "    find_and_extract_archives(archive_path, archive_type, archive_password, output_path, use_subfolders)\n",
        "\n",
        "if automatically_clear_cell_output is True:\n",
        "    clear_output()\n",
        "\n",
        "\n"
      ],
      "metadata": {
        "cellView": "form",
        "id": "m3noJXaUgDdh"
      },
      "execution_count": null,
      "outputs": []
    }
  ]
}
