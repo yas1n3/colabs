{
  "nbformat": 4,
  "nbformat_minor": 0,
  "metadata": {
    "colab": {
      "provenance": [],
      "mount_file_id": "1UewHR9Ag5PwFt887GIQ0wN0-FM1flpJz",
      "authorship_tag": "ABX9TyN00yfRNkJhGb8mTw/+39Um",
      "include_colab_link": true
    },
    "kernelspec": {
      "name": "python3",
      "display_name": "Python 3"
    },
    "language_info": {
      "name": "python"
    }
  },
  "cells": [
    {
      "cell_type": "markdown",
      "metadata": {
        "id": "view-in-github",
        "colab_type": "text"
      },
      "source": [
        "<a href=\"https://colab.research.google.com/github/yas1n3/colabs/blob/main/wget.ipynb\" target=\"_parent\"><img src=\"https://colab.research.google.com/assets/colab-badge.svg\" alt=\"Open In Colab\"/></a>"
      ]
    },
    {
      "cell_type": "code",
      "execution_count": null,
      "metadata": {
        "id": "WUXQzovNYdqm"
      },
      "outputs": [],
      "source": [
        "import os\n",
        "# Check if the downloads.txt file exists\n",
        "if not os.path.exists(\"downloads.txt\"):\n",
        "    # Create the downloads.txt file\n",
        "    open(\"downloads.txt\", \"w\").close()"
      ]
    },
    {
      "cell_type": "code",
      "source": [
        "import os\n",
        "\n",
        "# Prompt the user for the download location\n",
        "location = \"\" #@param {type:\"string\"}\n",
        "if location == \"\":\n",
        "    location = \"/content/drive/MyDrive\"\n",
        "\n",
        "# Generate a unique folder name with a number\n",
        "folder_number = 1\n",
        "main_folder_path = os.path.join(location, f\"Folder_{folder_number}\")\n",
        "\n",
        "while os.path.exists(main_folder_path):\n",
        "    folder_number += 1\n",
        "    main_folder_path = os.path.join(location, f\"Folder_{folder_number}\")\n",
        "\n",
        "# Create the main folder\n",
        "os.mkdir(main_folder_path)\n",
        "\n",
        "# Function to check if a given string is a URL\n",
        "def is_url(s):\n",
        "    return (s.startswith(\"http://\") or s.startswith(\"https://\")) or '/' in s\n",
        "\n",
        "# Assuming you want to process all .txt files in the directory\n",
        "directory_path = \"/content\"  # Change this to your directory containing .txt files\n",
        "\n",
        "# List all files in the directory\n",
        "file_list = os.listdir(directory_path)\n",
        "\n",
        "# Filter the list to only include .txt files\n",
        "txt_files = [file for file in file_list if file.endswith(\".txt\")]\n",
        "\n",
        "# Process each .txt file\n",
        "for txt_file in txt_files:\n",
        "    file_path = os.path.join(directory_path, txt_file)\n",
        "\n",
        "with open(file_path, \"r\") as file:\n",
        "    current_subfolder_path = None\n",
        "\n",
        "    for line in file:\n",
        "        line = line.strip()\n",
        "\n",
        "        if not line:\n",
        "            # Ignore empty lines\n",
        "            continue\n",
        "\n",
        "        if is_url(line):\n",
        "            # Download the file to the appropriate folder (main or subfolder)\n",
        "            if current_subfolder_path:\n",
        "                download_path = current_subfolder_path\n",
        "            else:\n",
        "                download_path = main_folder_path\n",
        "\n",
        "            # Download the file using wget\n",
        "            !wget -N -P {download_path} {line}\n",
        "        else:\n",
        "            # Create a subfolder if the line is not a URL\n",
        "            subfolder_name = line\n",
        "            subfolder_path = os.path.join(main_folder_path, subfolder_name)\n",
        "\n",
        "            # Check if the subfolder already exists, otherwise create it\n",
        "            if not os.path.exists(subfolder_path):\n",
        "                os.mkdir(subfolder_path)\n",
        "\n",
        "            current_subfolder_path = subfolder_path\n"
      ],
      "metadata": {
        "id": "GKRswiRnH4tO"
      },
      "execution_count": null,
      "outputs": []
    },
    {
      "cell_type": "code",
      "source": [
        "import os\n",
        "\n",
        "# Create the downloads directory if it does not already exist\n",
        "if not os.path.exists(\"downloads\"):\n",
        "    os.mkdir(\"downloads\")\n",
        "\n",
        "# Prompt the user for the download location\n",
        "location = \"\" #@param {type:\"string\"}\n",
        "if location == \"\":\n",
        "    location = \"/content/drive/MyDrive\"\n",
        "\n",
        "# Generate a unique folder name with a number\n",
        "folder_number = 1\n",
        "new_folder_path = os.path.join(location, f\"Folder_{folder_number}\")\n",
        "while os.path.exists(new_folder_path):\n",
        "    folder_number += 1\n",
        "    new_folder_path = os.path.join(location, f\"Folder_{folder_number}\")\n",
        "\n",
        "# Create the new folder\n",
        "os.mkdir(new_folder_path)\n",
        "\n",
        "# Download the files to the new folder\n",
        "!wget -i downloads.txt -P {new_folder_path}\n"
      ],
      "metadata": {
        "id": "NmOJ456tsyHh",
        "cellView": "form"
      },
      "execution_count": null,
      "outputs": []
    },
    {
      "cell_type": "code",
      "source": [
        "download_url = \"\" #@param {type:\"string\"}\n",
        "!wget -m {download_url}"
      ],
      "metadata": {
        "id": "AkyDasNyZUjZ",
        "cellView": "form"
      },
      "execution_count": null,
      "outputs": []
    }
  ]
}